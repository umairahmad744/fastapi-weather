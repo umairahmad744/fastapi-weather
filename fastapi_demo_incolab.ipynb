{
  "nbformat": 4,
  "nbformat_minor": 0,
  "metadata": {
    "colab": {
      "provenance": []
    },
    "kernelspec": {
      "name": "python3",
      "display_name": "Python 3"
    },
    "language_info": {
      "name": "python"
    }
  },
  "cells": [
    {
      "cell_type": "markdown",
      "source": [
        "**Fast API Demo in Google Colab** :\n",
        "\n",
        "\n",
        "This mini project shows how to deploy a FastAPI app using Google Colab and expose it to the internet with ngrok."
      ],
      "metadata": {
        "id": "b-KjDLzKXGcV"
      }
    },
    {
      "cell_type": "markdown",
      "source": [
        "## Steps\n",
        "1) **Install Dependencies**\n",
        "\n"
      ],
      "metadata": {
        "id": "RcchlCfxXtuV"
      }
    },
    {
      "cell_type": "code",
      "source": [
        "!pip install fastapi uvicorn pyngrok\n"
      ],
      "metadata": {
        "id": "ATxAh4fsYKW9"
      },
      "execution_count": null,
      "outputs": []
    },
    {
      "cell_type": "markdown",
      "source": [
        "2) **Create FastAPI app**"
      ],
      "metadata": {
        "id": "7K-NnflVYLnV"
      }
    },
    {
      "cell_type": "code",
      "source": [
        "from fastapi import FastAPI\n",
        "\n",
        "app = FastAPI()\n",
        "\n",
        "@app.get(\"/\")\n",
        "def read_root():\n",
        "    return {\"message\": \"Hello from Colab API!\"}\n"
      ],
      "metadata": {
        "id": "8RTGZikvYV-1"
      },
      "execution_count": null,
      "outputs": []
    },
    {
      "cell_type": "markdown",
      "source": [
        "3) **Add ngrok authtoken**\n",
        "\n",
        "Copy your token from ngrok"
      ],
      "metadata": {
        "id": "BrLSX_uJYg-E"
      }
    },
    {
      "cell_type": "code",
      "source": [
        "!ngrok config add-authtoken YOUR_AUTHTOKEN_HERE\n"
      ],
      "metadata": {
        "id": "EkauKar3YnZd"
      },
      "execution_count": null,
      "outputs": []
    },
    {
      "cell_type": "markdown",
      "source": [
        "4) **Run FastAPI with uvicorn**"
      ],
      "metadata": {
        "id": "8H157VxfYwxF"
      }
    },
    {
      "cell_type": "code",
      "source": [
        "!uvicorn app:app --host 0.0.0.0 --port 8000 &\n"
      ],
      "metadata": {
        "id": "VA-yJQ_8Y661"
      },
      "execution_count": null,
      "outputs": []
    },
    {
      "cell_type": "markdown",
      "source": [
        "5) **Expose API to internet with ngrok**"
      ],
      "metadata": {
        "id": "nSEYvIDKY9ls"
      }
    },
    {
      "cell_type": "code",
      "source": [
        "from pyngrok import ngrok\n",
        "\n",
        "public_url = ngrok.connect(8000)\n",
        "print(\"Public URL:\", public_url)\n"
      ],
      "metadata": {
        "id": "sUPS8tFeZFP1"
      },
      "execution_count": null,
      "outputs": []
    },
    {
      "cell_type": "markdown",
      "source": [
        "you will see something like this\n",
        "https://abc123.ngrok.io\n"
      ],
      "metadata": {
        "id": "OKUQkuXWZIDV"
      }
    },
    {
      "cell_type": "markdown",
      "source": [
        "6) **Test It**"
      ],
      "metadata": {
        "id": "O0Ymn-cIZUx8"
      }
    },
    {
      "cell_type": "code",
      "source": [
        "curl https://abc123.ngrok.io/\n"
      ],
      "metadata": {
        "id": "emNWzum1ZbsN"
      },
      "execution_count": null,
      "outputs": []
    },
    {
      "cell_type": "markdown",
      "source": [
        "**Response**\n",
        "\n",
        "{\n",
        "  \"message\": \"Hello from Colab API!\"\n",
        "}\n"
      ],
      "metadata": {
        "id": "amaNp1ZOZcj9"
      }
    },
    {
      "cell_type": "markdown",
      "source": [],
      "metadata": {
        "id": "pNtUurLvZrAW"
      }
    }
  ]
}